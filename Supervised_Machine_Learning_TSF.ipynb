{
  "nbformat": 4,
  "nbformat_minor": 0,
  "metadata": {
    "colab": {
      "name": "Supervised Machine Learning TSF.ipynb",
      "provenance": [],
      "collapsed_sections": []
    },
    "kernelspec": {
      "name": "python3",
      "display_name": "Python 3"
    }
  },
  "cells": [
    {
      "cell_type": "markdown",
      "metadata": {
        "id": "QuA61t8N9oJh",
        "colab_type": "text"
      },
      "source": [
        "**Supervised Machine Learning using LinearRegression**\n",
        "In this regression task we have to predict the percentage of marks that a student is expected to score based upon the number of hours they studied. This is a very simple linear regression task as it involves just two variables i.e., hours and score.\n"
      ]
    },
    {
      "cell_type": "code",
      "metadata": {
        "id": "mu670P6Ul5za",
        "colab_type": "code",
        "colab": {}
      },
      "source": [
        "#Import all required libraries for easy to understand\n",
        "import pandas as pd\n",
        "import numpy as np\n",
        "#import the python libraries matplotlib and seaborn libraries is used for data visualisation\n",
        "import matplotlib.pyplot as plt\n",
        "import seaborn as sns\n",
        "%matplotlib inline"
      ],
      "execution_count": 170,
      "outputs": []
    },
    {
      "cell_type": "code",
      "metadata": {
        "id": "yH0Q-q7qmsK1",
        "colab_type": "code",
        "colab": {}
      },
      "source": [
        "#reading the dataset in csv file into dataframed named \"student_study\"\n",
        "student_study = pd.read_csv(\"http://bit.ly/w-data\")"
      ],
      "execution_count": 171,
      "outputs": []
    },
    {
      "cell_type": "code",
      "metadata": {
        "id": "ogidw9tzq7ia",
        "colab_type": "code",
        "colab": {
          "base_uri": "https://localhost:8080/",
          "height": 204
        },
        "outputId": "3385eb14-e05a-4862-acf9-e842a2f47f10"
      },
      "source": [
        "#Found out the view of dataset by head() functon whose defaul is set to 5 rows\n",
        "student_study.head()"
      ],
      "execution_count": 172,
      "outputs": [
        {
          "output_type": "execute_result",
          "data": {
            "text/html": [
              "<div>\n",
              "<style scoped>\n",
              "    .dataframe tbody tr th:only-of-type {\n",
              "        vertical-align: middle;\n",
              "    }\n",
              "\n",
              "    .dataframe tbody tr th {\n",
              "        vertical-align: top;\n",
              "    }\n",
              "\n",
              "    .dataframe thead th {\n",
              "        text-align: right;\n",
              "    }\n",
              "</style>\n",
              "<table border=\"1\" class=\"dataframe\">\n",
              "  <thead>\n",
              "    <tr style=\"text-align: right;\">\n",
              "      <th></th>\n",
              "      <th>Hours</th>\n",
              "      <th>Scores</th>\n",
              "    </tr>\n",
              "  </thead>\n",
              "  <tbody>\n",
              "    <tr>\n",
              "      <th>0</th>\n",
              "      <td>2.5</td>\n",
              "      <td>21</td>\n",
              "    </tr>\n",
              "    <tr>\n",
              "      <th>1</th>\n",
              "      <td>5.1</td>\n",
              "      <td>47</td>\n",
              "    </tr>\n",
              "    <tr>\n",
              "      <th>2</th>\n",
              "      <td>3.2</td>\n",
              "      <td>27</td>\n",
              "    </tr>\n",
              "    <tr>\n",
              "      <th>3</th>\n",
              "      <td>8.5</td>\n",
              "      <td>75</td>\n",
              "    </tr>\n",
              "    <tr>\n",
              "      <th>4</th>\n",
              "      <td>3.5</td>\n",
              "      <td>30</td>\n",
              "    </tr>\n",
              "  </tbody>\n",
              "</table>\n",
              "</div>"
            ],
            "text/plain": [
              "   Hours  Scores\n",
              "0    2.5      21\n",
              "1    5.1      47\n",
              "2    3.2      27\n",
              "3    8.5      75\n",
              "4    3.5      30"
            ]
          },
          "metadata": {
            "tags": []
          },
          "execution_count": 172
        }
      ]
    },
    {
      "cell_type": "markdown",
      "metadata": {
        "id": "xDAibsO8FIRJ",
        "colab_type": "text"
      },
      "source": [
        "**Exploratory Data Analysis**"
      ]
    },
    {
      "cell_type": "code",
      "metadata": {
        "id": "IeQVf3CSq-3N",
        "colab_type": "code",
        "colab": {
          "base_uri": "https://localhost:8080/",
          "height": 170
        },
        "outputId": "d4774598-a23c-4448-b740-2209d0521c5a"
      },
      "source": [
        "#This info() function give the information of the columns datatypes.\n",
        "student_study.info()"
      ],
      "execution_count": 173,
      "outputs": [
        {
          "output_type": "stream",
          "text": [
            "<class 'pandas.core.frame.DataFrame'>\n",
            "RangeIndex: 25 entries, 0 to 24\n",
            "Data columns (total 2 columns):\n",
            " #   Column  Non-Null Count  Dtype  \n",
            "---  ------  --------------  -----  \n",
            " 0   Hours   25 non-null     float64\n",
            " 1   Scores  25 non-null     int64  \n",
            "dtypes: float64(1), int64(1)\n",
            "memory usage: 528.0 bytes\n"
          ],
          "name": "stdout"
        }
      ]
    },
    {
      "cell_type": "code",
      "metadata": {
        "id": "smX_GvPcrEUy",
        "colab_type": "code",
        "colab": {
          "base_uri": "https://localhost:8080/",
          "height": 34
        },
        "outputId": "e31894ca-27d8-47e2-ae23-36a2bbe75ca2"
      },
      "source": [
        "#This \".shape\" return the (number of rows, number of columns) in the dataset.\n",
        "student_study.shape"
      ],
      "execution_count": 174,
      "outputs": [
        {
          "output_type": "execute_result",
          "data": {
            "text/plain": [
              "(25, 2)"
            ]
          },
          "metadata": {
            "tags": []
          },
          "execution_count": 174
        }
      ]
    },
    {
      "cell_type": "code",
      "metadata": {
        "id": "lBilI1BArKvD",
        "colab_type": "code",
        "colab": {
          "base_uri": "https://localhost:8080/",
          "height": 68
        },
        "outputId": "58e005c5-7bf4-41ba-9c0e-19dd65c97e30"
      },
      "source": [
        "\"\"\"The isnull() function checks weather there is any null values in the dataset if any then it returns that respective column, \n",
        "in total to find out column having how many null values I have used sum() function\"\"\"\n",
        "student_study.isnull().sum()"
      ],
      "execution_count": 175,
      "outputs": [
        {
          "output_type": "execute_result",
          "data": {
            "text/plain": [
              "Hours     0\n",
              "Scores    0\n",
              "dtype: int64"
            ]
          },
          "metadata": {
            "tags": []
          },
          "execution_count": 175
        }
      ]
    },
    {
      "cell_type": "code",
      "metadata": {
        "id": "9xDzYebVrTAg",
        "colab_type": "code",
        "colab": {
          "base_uri": "https://localhost:8080/",
          "height": 404
        },
        "outputId": "c3bf8c53-b70d-43ed-fda8-2e7acd79b2b6"
      },
      "source": [
        "\n",
        "#using seaborn the below graphs is plot of relations between with each other\n",
        "sns.pairplot(student_study)"
      ],
      "execution_count": 176,
      "outputs": [
        {
          "output_type": "execute_result",
          "data": {
            "text/plain": [
              "<seaborn.axisgrid.PairGrid at 0x7fdcea6c2080>"
            ]
          },
          "metadata": {
            "tags": []
          },
          "execution_count": 176
        },
        {
          "output_type": "display_data",
          "data": {
            "image/png": "[encoded data removed]",
            "text/plain": [
              "<Figure size 360x360 with 6 Axes>"
            ]
          },
          "metadata": {
            "tags": [],
            "needs_background": "light"
          }
        }
      ]
    },
    {
      "cell_type": "code",
      "metadata": {
        "id": "aVd707HFsZpA",
        "colab_type": "code",
        "colab": {
          "base_uri": "https://localhost:8080/",
          "height": 296
        },
        "outputId": "39eb055b-a0f4-4afb-f2f6-0e85437ede6f"
      },
      "source": [
        "sns.boxplot(student_study[\"Scores\"])"
      ],
      "execution_count": 177,
      "outputs": [
        {
          "output_type": "execute_result",
          "data": {
            "text/plain": [
              "<matplotlib.axes._subplots.AxesSubplot at 0x7fdcea4bf0b8>"
            ]
          },
          "metadata": {
            "tags": []
          },
          "execution_count": 177
        },
        {
          "output_type": "display_data",
          "data": {
            "image/png": "[encoded data removed]",
            "text/plain": [
              "<Figure size 432x288 with 1 Axes>"
            ]
          },
          "metadata": {
            "tags": [],
            "needs_background": "light"
          }
        }
      ]
    },
    {
      "cell_type": "code",
      "metadata": {
        "id": "YBevh8q4vDR2",
        "colab_type": "code",
        "colab": {
          "base_uri": "https://localhost:8080/",
          "height": 111
        },
        "outputId": "257d5636-6808-4544-fd58-0ef77c5769ab"
      },
      "source": [
        "#the correlation function gives the correlation between the columns. values close to 1 will be considered in x.\n",
        "student_study.corr()"
      ],
      "execution_count": 178,
      "outputs": [
        {
          "output_type": "execute_result",
          "data": {
            "text/html": [
              "<div>\n",
              "<style scoped>\n",
              "    .dataframe tbody tr th:only-of-type {\n",
              "        vertical-align: middle;\n",
              "    }\n",
              "\n",
              "    .dataframe tbody tr th {\n",
              "        vertical-align: top;\n",
              "    }\n",
              "\n",
              "    .dataframe thead th {\n",
              "        text-align: right;\n",
              "    }\n",
              "</style>\n",
              "<table border=\"1\" class=\"dataframe\">\n",
              "  <thead>\n",
              "    <tr style=\"text-align: right;\">\n",
              "      <th></th>\n",
              "      <th>Hours</th>\n",
              "      <th>Scores</th>\n",
              "    </tr>\n",
              "  </thead>\n",
              "  <tbody>\n",
              "    <tr>\n",
              "      <th>Hours</th>\n",
              "      <td>1.000000</td>\n",
              "      <td>0.976191</td>\n",
              "    </tr>\n",
              "    <tr>\n",
              "      <th>Scores</th>\n",
              "      <td>0.976191</td>\n",
              "      <td>1.000000</td>\n",
              "    </tr>\n",
              "  </tbody>\n",
              "</table>\n",
              "</div>"
            ],
            "text/plain": [
              "           Hours    Scores\n",
              "Hours   1.000000  0.976191\n",
              "Scores  0.976191  1.000000"
            ]
          },
          "metadata": {
            "tags": []
          },
          "execution_count": 178
        }
      ]
    },
    {
      "cell_type": "code",
      "metadata": {
        "id": "WsgWe63Psl52",
        "colab_type": "code",
        "colab": {}
      },
      "source": [
        "X = student_study.iloc[:,:-1].values\n"
      ],
      "execution_count": 179,
      "outputs": []
    },
    {
      "cell_type": "code",
      "metadata": {
        "id": "HFYOVsoVtDcl",
        "colab_type": "code",
        "colab": {}
      },
      "source": [
        "y = student_study.iloc[:,1].values\n"
      ],
      "execution_count": 180,
      "outputs": []
    },
    {
      "cell_type": "code",
      "metadata": {
        "id": "sU7yNWLstIPi",
        "colab_type": "code",
        "colab": {}
      },
      "source": [
        "#model for traning purpose\n",
        "from sklearn.model_selection import train_test_split"
      ],
      "execution_count": 181,
      "outputs": []
    },
    {
      "cell_type": "code",
      "metadata": {
        "id": "bma97UfRtcXZ",
        "colab_type": "code",
        "colab": {}
      },
      "source": [
        "\n",
        "#spliting the data into 80% traning data and 20% testing data\n",
        "X_train, X_test, y_train, y_test = train_test_split(X,y, test_size = 0.20, random_state = 3)"
      ],
      "execution_count": 200,
      "outputs": []
    },
    {
      "cell_type": "markdown",
      "metadata": {
        "id": "549P_aSMtsr0",
        "colab_type": "text"
      },
      "source": [
        "**Applying ML Algorithm LinearRegression:**\n",
        "Linear regression is a technique used to model the relationships between observed variables. The idea behind simple linear regression is to \"fit\" the observations of two variables into a linear relationship between them. Graphically, the task is to draw the line that is \"best-fitting\" or \"closest\" to the points are observations of the two variables which are expected to depend linearly on each other."
      ]
    },
    {
      "cell_type": "code",
      "metadata": {
        "id": "-G_OHj_5tlJ1",
        "colab_type": "code",
        "colab": {}
      },
      "source": [
        "from sklearn.linear_model import LinearRegression"
      ],
      "execution_count": 201,
      "outputs": []
    },
    {
      "cell_type": "code",
      "metadata": {
        "id": "ggBcdZEotz3B",
        "colab_type": "code",
        "colab": {}
      },
      "source": [
        "model = LinearRegression()"
      ],
      "execution_count": 202,
      "outputs": []
    },
    {
      "cell_type": "code",
      "metadata": {
        "id": "34CiiszWt31F",
        "colab_type": "code",
        "colab": {
          "base_uri": "https://localhost:8080/",
          "height": 34
        },
        "outputId": "b7ccf78e-8481-4a64-e507-425668318360"
      },
      "source": [
        "model.fit(X_train,y_train)\n",
        "#traning model by giving traning data"
      ],
      "execution_count": 203,
      "outputs": [
        {
          "output_type": "execute_result",
          "data": {
            "text/plain": [
              "LinearRegression(copy_X=True, fit_intercept=True, n_jobs=None, normalize=False)"
            ]
          },
          "metadata": {
            "tags": []
          },
          "execution_count": 203
        }
      ]
    },
    {
      "cell_type": "markdown",
      "metadata": {
        "id": "nDK09yEMA9b4",
        "colab_type": "text"
      },
      "source": [
        "The straight line can be seen in the plot, showing how linear regression attempts to draw a straight line that will best minimize the residual sum of squares between the observed responses in the dataset, and the responses predicted by the linear approximation.\n",
        "\n",
        "The coefficients, the residual sum of squares and the coefficient of determination are also calculated."
      ]
    },
    {
      "cell_type": "code",
      "metadata": {
        "id": "nzA5cErWuI0F",
        "colab_type": "code",
        "colab": {
          "base_uri": "https://localhost:8080/",
          "height": 265
        },
        "outputId": "56a8bb3b-01ad-4c72-e4d8-853456e7dc07"
      },
      "source": [
        "# Plotting the LinearRegression line\n",
        "line = model.coef_*X+model.intercept_\n",
        "\n",
        "# Plotting for the test data\n",
        "plt.scatter(X, y)\n",
        "plt.plot(X, line);\n",
        "plt.show()"
      ],
      "execution_count": 204,
      "outputs": [
        {
          "output_type": "display_data",
          "data": {
            "image/png": "[encoded data removed]",
            "text/plain": [
              "<Figure size 432x288 with 1 Axes>"
            ]
          },
          "metadata": {
            "tags": [],
            "needs_background": "light"
          }
        }
      ]
    },
    {
      "cell_type": "code",
      "metadata": {
        "id": "EkqP0dEE0OZs",
        "colab_type": "code",
        "colab": {}
      },
      "source": [
        "#predict() function used for predicting the values by taking parameter x_test\n",
        "predict = model.predict(X_test)"
      ],
      "execution_count": 205,
      "outputs": []
    },
    {
      "cell_type": "code",
      "metadata": {
        "id": "oe8FucgJ0SXz",
        "colab_type": "code",
        "colab": {
          "base_uri": "https://localhost:8080/",
          "height": 204
        },
        "outputId": "2afa9e61-6581-4a34-c14a-39e24d79c7fb"
      },
      "source": [
        "#we can see how our model has predicted when compared to real values\n",
        "predicted_data = pd.DataFrame({'Real': y_test, 'Predicted': predict})  \n",
        "predicted_data"
      ],
      "execution_count": 206,
      "outputs": [
        {
          "output_type": "execute_result",
          "data": {
            "text/html": [
              "<div>\n",
              "<style scoped>\n",
              "    .dataframe tbody tr th:only-of-type {\n",
              "        vertical-align: middle;\n",
              "    }\n",
              "\n",
              "    .dataframe tbody tr th {\n",
              "        vertical-align: top;\n",
              "    }\n",
              "\n",
              "    .dataframe thead th {\n",
              "        text-align: right;\n",
              "    }\n",
              "</style>\n",
              "<table border=\"1\" class=\"dataframe\">\n",
              "  <thead>\n",
              "    <tr style=\"text-align: right;\">\n",
              "      <th></th>\n",
              "      <th>Real</th>\n",
              "      <th>Predicted</th>\n",
              "    </tr>\n",
              "  </thead>\n",
              "  <tbody>\n",
              "    <tr>\n",
              "      <th>0</th>\n",
              "      <td>67</td>\n",
              "      <td>61.072402</td>\n",
              "    </tr>\n",
              "    <tr>\n",
              "      <th>1</th>\n",
              "      <td>24</td>\n",
              "      <td>21.181131</td>\n",
              "    </tr>\n",
              "    <tr>\n",
              "      <th>2</th>\n",
              "      <td>41</td>\n",
              "      <td>45.875727</td>\n",
              "    </tr>\n",
              "    <tr>\n",
              "      <th>3</th>\n",
              "      <td>76</td>\n",
              "      <td>68.670739</td>\n",
              "    </tr>\n",
              "    <tr>\n",
              "      <th>4</th>\n",
              "      <td>95</td>\n",
              "      <td>87.666582</td>\n",
              "    </tr>\n",
              "  </tbody>\n",
              "</table>\n",
              "</div>"
            ],
            "text/plain": [
              "   Real  Predicted\n",
              "0    67  61.072402\n",
              "1    24  21.181131\n",
              "2    41  45.875727\n",
              "3    76  68.670739\n",
              "4    95  87.666582"
            ]
          },
          "metadata": {
            "tags": []
          },
          "execution_count": 206
        }
      ]
    },
    {
      "cell_type": "code",
      "metadata": {
        "id": "wI9D1Y0g0YE8",
        "colab_type": "code",
        "colab": {
          "base_uri": "https://localhost:8080/",
          "height": 34
        },
        "outputId": "2103cb4f-85fa-429d-cf96-2c353663bd3d"
      },
      "source": [
        "# task question\n",
        "hour = [[9.25]]\n",
        "Ownpredicted_value = model.predict(hour)\n",
        "print(\"Predicted Score = {}\".format(Ownpredicted_value[0]))"
      ],
      "execution_count": 207,
      "outputs": [
        {
          "output_type": "stream",
          "text": [
            "Predicted Score = 90.99085500040755\n"
          ],
          "name": "stdout"
        }
      ]
    },
    {
      "cell_type": "markdown",
      "metadata": {
        "id": "GlAJtunECmn2",
        "colab_type": "text"
      },
      "source": [
        "**r2 score** varies between 0 and 100%.proportion of the variance of dependent variable that is predictable from the independent variable. So, if it is close to 100%, the two variables are perfectly correlated.\n",
        "**mean square error (MSE)** is the average of the square of the errors. The larger the number the larger is the error. Error in this case means the difference between the observed values and the predicted ones.\n",
        "**variance** in terms of linear regression, variance is a measure of how far observed values differ from the average of predicted values, i.e., their difference from the predicted value mean. The goal is to have a value that is low."
      ]
    },
    {
      "cell_type": "code",
      "metadata": {
        "id": "dcDbQeT10dA5",
        "colab_type": "code",
        "colab": {
          "base_uri": "https://localhost:8080/",
          "height": 119
        },
        "outputId": "6822a9da-36fb-499e-eb3e-62169ed79d5e"
      },
      "source": [
        "from sklearn.metrics import r2_score,mean_squared_log_error,mean_squared_error,max_error,explained_variance_score, mean_absolute_error\n",
        "\n",
        "print(\"r2 Score:\", r2_score(y_test,predict))\n",
        "print(\"mean squared log error:\",mean_squared_log_error(y_test, predict))\n",
        "print(\"mean squared error:\", mean_squared_error(y_test, predict))\n",
        "print(\"mean absolute error:\", mean_absolute_error(y_test, predict))\n",
        "print(\"max error:\", max_error(y_test, predict))\n",
        "\n",
        "print(\"variance score\", explained_variance_score(y_test, predict))"
      ],
      "execution_count": 208,
      "outputs": [
        {
          "output_type": "stream",
          "text": [
            "r2 Score: 0.945261762833401\n",
            "mean squared log error: 0.010202650231367643\n",
            "mean squared error: 34.87044660461019\n",
            "mean absolute error: 5.656974488548368\n",
            "max error: 7.333417556443052\n",
            "variance score 0.9668294864502207\n"
          ],
          "name": "stdout"
        }
      ]
    },
    {
      "cell_type": "code",
      "metadata": {
        "id": "JwRjiXhu4XIU",
        "colab_type": "code",
        "colab": {}
      },
      "source": [
        "      "
      ],
      "execution_count": null,
      "outputs": []
    }
  ]
}